{
 "cells": [
  {
   "cell_type": "markdown",
   "metadata": {},
   "source": [
    "# Vertical geometry\n",
    "\n",
    "This workflow details how to reduce experimental data collected at the I07 beamline, when the sample is a vertical geometry (when the DCD setup is not being used)."
   ]
  },
  {
   "cell_type": "code",
   "execution_count": 37,
   "metadata": {},
   "outputs": [],
   "source": [
    "from pint import UnitRegistry as UREG"
   ]
  },
  {
   "cell_type": "code",
   "execution_count": 39,
   "metadata": {},
   "outputs": [],
   "source": [
    "import pint\n",
    "ureg = pint.UnitRegistry()"
   ]
  },
  {
   "cell_type": "code",
   "execution_count": 41,
   "metadata": {},
   "outputs": [
    {
     "data": {
      "text/plain": [
       "pint.unit.build_unit_class.<locals>.Unit"
      ]
     },
     "execution_count": 41,
     "metadata": {},
     "output_type": "execute_result"
    }
   ],
   "source": [
    "type(ureg.meter)"
   ]
  },
  {
   "cell_type": "code",
   "execution_count": 1,
   "metadata": {},
   "outputs": [],
   "source": [
    "import glob"
   ]
  },
  {
   "cell_type": "code",
   "execution_count": 2,
   "metadata": {},
   "outputs": [],
   "source": [
    "file = sorted(glob.glob('../../../briscoe/*.dat'))"
   ]
  },
  {
   "cell_type": "code",
   "execution_count": 3,
   "metadata": {},
   "outputs": [],
   "source": [
    "from islatu.io import i07_dat_parser"
   ]
  },
  {
   "cell_type": "code",
   "execution_count": 20,
   "metadata": {
    "scrolled": false
   },
   "outputs": [],
   "source": [
    "useful = []\n",
    "for f in file:\n",
    "    if f == '../../../briscoe/372522.dat':\n",
    "        continue\n",
    "    if f == '../../../briscoe/372523.dat':\n",
    "        continue\n",
    "    if f == '../../../briscoe/372677.dat':\n",
    "        continue\n",
    "    m, d = i07_dat_parser(f)\n",
    "    if 'diff1halpha' in d.keys():\n",
    "        useful.append(f)"
   ]
  },
  {
   "cell_type": "code",
   "execution_count": 21,
   "metadata": {},
   "outputs": [
    {
     "data": {
      "text/plain": [
       "['../../../briscoe/372276.dat',\n",
       " '../../../briscoe/372277.dat',\n",
       " '../../../briscoe/372278.dat',\n",
       " '../../../briscoe/372282.dat',\n",
       " '../../../briscoe/372283.dat',\n",
       " '../../../briscoe/372284.dat',\n",
       " '../../../briscoe/372289.dat',\n",
       " '../../../briscoe/372290.dat',\n",
       " '../../../briscoe/372291.dat',\n",
       " '../../../briscoe/372295.dat',\n",
       " '../../../briscoe/372296.dat',\n",
       " '../../../briscoe/372297.dat',\n",
       " '../../../briscoe/372301.dat',\n",
       " '../../../briscoe/372302.dat',\n",
       " '../../../briscoe/372303.dat',\n",
       " '../../../briscoe/372306.dat',\n",
       " '../../../briscoe/372307.dat',\n",
       " '../../../briscoe/372308.dat',\n",
       " '../../../briscoe/372311.dat',\n",
       " '../../../briscoe/372312.dat',\n",
       " '../../../briscoe/372313.dat',\n",
       " '../../../briscoe/372317.dat',\n",
       " '../../../briscoe/372318.dat',\n",
       " '../../../briscoe/372319.dat',\n",
       " '../../../briscoe/372347.dat',\n",
       " '../../../briscoe/372348.dat',\n",
       " '../../../briscoe/372349.dat',\n",
       " '../../../briscoe/372352.dat',\n",
       " '../../../briscoe/372353.dat',\n",
       " '../../../briscoe/372354.dat',\n",
       " '../../../briscoe/372358.dat',\n",
       " '../../../briscoe/372359.dat',\n",
       " '../../../briscoe/372360.dat',\n",
       " '../../../briscoe/372364.dat',\n",
       " '../../../briscoe/372365.dat',\n",
       " '../../../briscoe/372366.dat',\n",
       " '../../../briscoe/372375.dat',\n",
       " '../../../briscoe/372376.dat',\n",
       " '../../../briscoe/372377.dat',\n",
       " '../../../briscoe/372402.dat',\n",
       " '../../../briscoe/372403.dat',\n",
       " '../../../briscoe/372404.dat',\n",
       " '../../../briscoe/372409.dat',\n",
       " '../../../briscoe/372410.dat',\n",
       " '../../../briscoe/372411.dat',\n",
       " '../../../briscoe/372412.dat',\n",
       " '../../../briscoe/372413.dat',\n",
       " '../../../briscoe/372414.dat',\n",
       " '../../../briscoe/372419.dat',\n",
       " '../../../briscoe/372420.dat',\n",
       " '../../../briscoe/372421.dat',\n",
       " '../../../briscoe/372428.dat',\n",
       " '../../../briscoe/372429.dat',\n",
       " '../../../briscoe/372430.dat',\n",
       " '../../../briscoe/372448.dat',\n",
       " '../../../briscoe/372449.dat',\n",
       " '../../../briscoe/372450.dat',\n",
       " '../../../briscoe/372476.dat',\n",
       " '../../../briscoe/372477.dat',\n",
       " '../../../briscoe/372478.dat',\n",
       " '../../../briscoe/372499.dat',\n",
       " '../../../briscoe/372500.dat',\n",
       " '../../../briscoe/372501.dat',\n",
       " '../../../briscoe/372528.dat',\n",
       " '../../../briscoe/372529.dat',\n",
       " '../../../briscoe/372530.dat',\n",
       " '../../../briscoe/372536.dat',\n",
       " '../../../briscoe/372537.dat',\n",
       " '../../../briscoe/372538.dat',\n",
       " '../../../briscoe/372542.dat',\n",
       " '../../../briscoe/372543.dat',\n",
       " '../../../briscoe/372544.dat',\n",
       " '../../../briscoe/372548.dat',\n",
       " '../../../briscoe/372549.dat',\n",
       " '../../../briscoe/372550.dat',\n",
       " '../../../briscoe/372557.dat',\n",
       " '../../../briscoe/372558.dat',\n",
       " '../../../briscoe/372559.dat',\n",
       " '../../../briscoe/372590.dat',\n",
       " '../../../briscoe/372591.dat',\n",
       " '../../../briscoe/372592.dat',\n",
       " '../../../briscoe/372596.dat',\n",
       " '../../../briscoe/372597.dat',\n",
       " '../../../briscoe/372598.dat',\n",
       " '../../../briscoe/372602.dat',\n",
       " '../../../briscoe/372603.dat',\n",
       " '../../../briscoe/372604.dat',\n",
       " '../../../briscoe/372609.dat',\n",
       " '../../../briscoe/372610.dat',\n",
       " '../../../briscoe/372611.dat',\n",
       " '../../../briscoe/372633.dat',\n",
       " '../../../briscoe/372634.dat',\n",
       " '../../../briscoe/372635.dat',\n",
       " '../../../briscoe/372640.dat',\n",
       " '../../../briscoe/372641.dat',\n",
       " '../../../briscoe/372642.dat',\n",
       " '../../../briscoe/372646.dat',\n",
       " '../../../briscoe/372647.dat',\n",
       " '../../../briscoe/372648.dat',\n",
       " '../../../briscoe/372667.dat',\n",
       " '../../../briscoe/372668.dat',\n",
       " '../../../briscoe/372669.dat',\n",
       " '../../../briscoe/372671.dat',\n",
       " '../../../briscoe/372672.dat',\n",
       " '../../../briscoe/372673.dat',\n",
       " '../../../briscoe/372674.dat',\n",
       " '../../../briscoe/372675.dat',\n",
       " '../../../briscoe/372676.dat',\n",
       " '../../../briscoe/372703.dat',\n",
       " '../../../briscoe/372704.dat',\n",
       " '../../../briscoe/372705.dat',\n",
       " '../../../briscoe/372734.dat',\n",
       " '../../../briscoe/372735.dat',\n",
       " '../../../briscoe/372736.dat',\n",
       " '../../../briscoe/372740.dat',\n",
       " '../../../briscoe/372741.dat',\n",
       " '../../../briscoe/372742.dat',\n",
       " '../../../briscoe/372763.dat',\n",
       " '../../../briscoe/372764.dat',\n",
       " '../../../briscoe/372765.dat',\n",
       " '../../../briscoe/372768.dat',\n",
       " '../../../briscoe/372769.dat',\n",
       " '../../../briscoe/372770.dat',\n",
       " '../../../briscoe/372775.dat',\n",
       " '../../../briscoe/372776.dat',\n",
       " '../../../briscoe/372777.dat',\n",
       " '../../../briscoe/372780.dat',\n",
       " '../../../briscoe/372781.dat',\n",
       " '../../../briscoe/372782.dat',\n",
       " '../../../briscoe/372795.dat',\n",
       " '../../../briscoe/372796.dat',\n",
       " '../../../briscoe/372797.dat',\n",
       " '../../../briscoe/372817.dat',\n",
       " '../../../briscoe/372818.dat',\n",
       " '../../../briscoe/372819.dat',\n",
       " '../../../briscoe/372822.dat',\n",
       " '../../../briscoe/372823.dat',\n",
       " '../../../briscoe/372824.dat',\n",
       " '../../../briscoe/372825.dat',\n",
       " '../../../briscoe/372826.dat',\n",
       " '../../../briscoe/372827.dat']"
      ]
     },
     "execution_count": 21,
     "metadata": {},
     "output_type": "execute_result"
    }
   ],
   "source": [
    "useful"
   ]
  },
  {
   "cell_type": "code",
   "execution_count": 24,
   "metadata": {},
   "outputs": [],
   "source": [
    "for i in range(0, len(useful), 3):\n",
    "    count = int(useful[i].split('/')[-1][:-4])\n",
    "    if int(useful[i+1].split('/')[-1][:-4]) != count + 1:\n",
    "        print(useful[i])\n",
    "    if int(useful[i+2].split('/')[-1][:-4]) != count + 2:\n",
    "        print(useful[i])"
   ]
  },
  {
   "cell_type": "code",
   "execution_count": 25,
   "metadata": {},
   "outputs": [
    {
     "name": "stdout",
     "output_type": "stream",
     "text": [
      "../../../briscoe/372825.dat\n"
     ]
    }
   ],
   "source": [
    "print(useful[i])"
   ]
  },
  {
   "cell_type": "code",
   "execution_count": 2,
   "metadata": {},
   "outputs": [],
   "source": [
    "from islatu.io import i07_dat_parser"
   ]
  },
  {
   "cell_type": "code",
   "execution_count": 4,
   "metadata": {},
   "outputs": [],
   "source": [
    "m, d = i07_dat_parser(file)"
   ]
  },
  {
   "cell_type": "code",
   "execution_count": 6,
   "metadata": {},
   "outputs": [
    {
     "data": {
      "text/plain": [
       "Index(['diff1halpha', 'diff1vdelta', 'beamok', 'd5i', 'ExposureTime', 'file',\n",
       "       'roi1_X', 'roi1_Y', 'roi1_Width', 'roi1_Height', 'roi1_Angle',\n",
       "       'roi1_minx', 'roi1_miny', 'roi1_minval', 'roi1_maxx', 'roi1_maxy',\n",
       "       'roi1_maxval', 'roi1_mean', 'roi1_std', 'roi1_sum'],\n",
       "      dtype='object')"
      ]
     },
     "execution_count": 6,
     "metadata": {},
     "output_type": "execute_result"
    }
   ],
   "source": [
    "d.keys()"
   ]
  },
  {
   "cell_type": "code",
   "execution_count": 8,
   "metadata": {},
   "outputs": [
    {
     "data": {
      "text/plain": [
       "[14.0]"
      ]
     },
     "execution_count": 8,
     "metadata": {},
     "output_type": "execute_result"
    }
   ],
   "source": [
    "m['dcm1energy']"
   ]
  },
  {
   "cell_type": "code",
   "execution_count": 26,
   "metadata": {},
   "outputs": [],
   "source": [
    "from islatu.corrections import get_interpolator"
   ]
  },
  {
   "cell_type": "code",
   "execution_count": 34,
   "metadata": {},
   "outputs": [
    {
     "data": {
      "text/plain": [
       "(array([0.015, 0.015, 0.015, 0.015, 0.035, 0.045, 0.055, 0.065, 0.075,\n",
       "        0.085, 0.095, 0.105, 0.115, 0.125, 0.135, 0.145, 0.155, 0.165,\n",
       "        0.175, 0.185, 0.195, 0.205, 0.215, 0.225, 0.235, 0.245, 0.255,\n",
       "        0.265, 0.275, 0.285, 0.295, 0.305, 0.315, 0.325, 0.335, 0.345,\n",
       "        0.355, 0.365, 0.375, 0.385, 0.395, 0.405, 0.415, 0.425, 0.435,\n",
       "        0.445, 0.455, 0.465, 0.475, 0.485, 0.495, 0.505, 0.515, 0.525,\n",
       "        0.535, 0.545, 0.555, 0.565, 0.575, 0.585, 0.595, 0.605, 0.615,\n",
       "        0.625, 0.635, 0.645, 0.655, 0.665, 0.675, 0.685, 0.695, 0.705,\n",
       "        0.715, 0.725, 0.745, 0.745, 0.745, 0.745]),\n",
       " array([2.04079141e+08, 2.03795899e+08, 2.07344163e+08, 2.07973132e+08,\n",
       "        2.10882208e+08, 2.10838821e+08, 2.13183674e+08, 2.12379737e+08,\n",
       "        2.13837222e+08, 2.15284632e+08, 2.16134501e+08, 2.17428833e+08,\n",
       "        2.18688583e+08, 2.20772098e+08, 2.20988735e+08, 2.24351830e+08,\n",
       "        2.25296414e+08, 2.27190643e+08, 2.27090557e+08, 2.29321356e+08,\n",
       "        2.30419314e+08, 2.32962059e+08, 2.35473605e+08, 2.37500777e+08,\n",
       "        2.40566260e+08, 2.41557106e+08, 2.43595582e+08, 2.45345625e+08,\n",
       "        2.47695662e+08, 2.48957540e+08, 2.51773831e+08, 2.54188224e+08,\n",
       "        2.57634120e+08, 2.61117595e+08, 2.63653947e+08, 2.65999734e+08,\n",
       "        2.68821788e+08, 2.70446702e+08, 2.74222915e+08, 2.76561060e+08,\n",
       "        2.78936719e+08, 2.81491498e+08, 2.82550734e+08, 2.85298105e+08,\n",
       "        2.86066633e+08, 2.87696155e+08, 2.83669421e+08, 2.86400407e+08,\n",
       "        2.86563657e+08, 2.86925515e+08, 2.87894376e+08, 2.87634663e+08,\n",
       "        2.87874112e+08, 2.87992355e+08, 2.89009727e+08, 2.87527774e+08,\n",
       "        2.86387125e+08, 2.83808306e+08, 2.83652388e+08, 2.82555279e+08,\n",
       "        2.79583867e+08, 2.80595428e+08, 2.79262463e+08, 2.80824502e+08,\n",
       "        2.80800716e+08, 2.82043696e+08, 2.82086063e+08, 2.74588626e+08,\n",
       "        2.80982418e+08, 2.69228423e+08, 2.71512728e+08, 2.71742250e+08,\n",
       "        2.65716024e+08, 2.71093929e+08, 0.00000000e+00, 0.00000000e+00,\n",
       "        0.00000000e+00, 0.00000000e+00]),\n",
       " 3)"
      ]
     },
     "execution_count": 34,
     "metadata": {},
     "output_type": "execute_result"
    }
   ],
   "source": [
    "get_interpolator('../../islatu/tests/test_files/qdcd_norm.dat', i07_dat_parser)"
   ]
  },
  {
   "cell_type": "code",
   "execution_count": null,
   "metadata": {},
   "outputs": [],
   "source": []
  }
 ],
 "metadata": {
  "kernelspec": {
   "display_name": "Python 3",
   "language": "python",
   "name": "python3"
  },
  "language_info": {
   "codemirror_mode": {
    "name": "ipython",
    "version": 3
   },
   "file_extension": ".py",
   "mimetype": "text/x-python",
   "name": "python",
   "nbconvert_exporter": "python",
   "pygments_lexer": "ipython3",
   "version": "3.7.6"
  }
 },
 "nbformat": 4,
 "nbformat_minor": 4
}
