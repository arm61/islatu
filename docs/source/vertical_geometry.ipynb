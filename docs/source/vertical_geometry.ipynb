{
 "cells": [
  {
   "cell_type": "markdown",
   "metadata": {},
   "source": [
    "# Vertical geometry\n",
    "\n",
    "This workflow details how to reduce experimental data collected at the I07 beamline, when the sample is a vertical geometry (when the DCD setup is not being used).\n",
    "The example data is that of a silicon wafer with some lipids material self-assembled on the surface.\n",
    "\n",
    "The first task is to ensure that the necessary modules and packages have been imported"
   ]
  },
  {
   "cell_type": "code",
   "execution_count": 1,
   "metadata": {},
   "outputs": [],
   "source": [
    "import matplotlib.pyplot as plt\n",
    "from uncertainties import unumpy as unp\n",
    "from uncertainties import ufloat\n",
    "import numpy as np\n",
    "\n",
    "from islatu.refl_data import Profile\n",
    "from islatu.io import i07_dat_parser\n",
    "from islatu.image import Image\n",
    "from islatu.cropping import crop_2d\n",
    "from islatu.background import fit_gaussian_1d"
   ]
  },
  {
   "cell_type": "markdown",
   "metadata": {},
   "source": [
    "## Parsing data\n",
    "\n",
    "Once everything has been imported, we must define the files that will be reduced, in this case they are I07 `.dat` files. \n",
    "Remember that due to the changes in attenutation a full reflectometry curve typically contains 3-5 scans. In this example, five scans where performed and the files are called refl_1.dat to refl_3.dat."
   ]
  },
  {
   "cell_type": "code",
   "execution_count": 2,
   "metadata": {},
   "outputs": [],
   "source": [
    "files =['vrefl_{}.dat'.format(i) for i in range(1, 4)]"
   ]
  },
  {
   "cell_type": "code",
   "execution_count": 3,
   "metadata": {},
   "outputs": [
    {
     "name": "stdout",
     "output_type": "stream",
     "text": [
      "['vrefl_1.dat', 'vrefl_2.dat', 'vrefl_3.dat']\n"
     ]
    }
   ],
   "source": [
    "print(files)"
   ]
  },
  {
   "cell_type": "markdown",
   "metadata": {},
   "source": [
    "This list of files is passed to the `islatu.refl_data.Profile` object, we must also inform this function what parsing function should be used. \n",
    "In this cause, as we are detailing with I07 `.dat` files, we use `islatu.io.i07_dat_parser`.\n",
    "Additionally, since the motor that is to vary $q$ is an angle, we must tell the code what the `theta_axis_name` was, and the $q$ axis will be populated from this."
   ]
  },
  {
   "cell_type": "code",
   "execution_count": 4,
   "metadata": {},
   "outputs": [],
   "source": [
    "refl = Profile(files, i07_dat_parser, \n",
    "               q_axis_name=None, \n",
    "               theta_axis_name='diff1halpha')"
   ]
  },
  {
   "cell_type": "markdown",
   "metadata": {},
   "source": [
    "The `refl` object possesses a class object called `scans`, which is a list of the scan contained in the `.dat` files."
   ]
  },
  {
   "cell_type": "code",
   "execution_count": 5,
   "metadata": {},
   "outputs": [
    {
     "name": "stdout",
     "output_type": "stream",
     "text": [
      "The file: vrefl_1.dat contains 45 images from q = 0.0149 to q = 0.1238.\n",
      "The file: vrefl_2.dat contains 53 images from q = 0.1189 to q = 0.2476.\n",
      "The file: vrefl_3.dat contains 163 images from q = 0.2427 to q = 0.6437.\n"
     ]
    }
   ],
   "source": [
    "for i in refl.scans:\n",
    "    print(i)"
   ]
  },
  {
   "cell_type": "markdown",
   "metadata": {},
   "source": [
    "In total, we have data ranging from $q = 0.015$ Å<sup>-1</sup> to $q = 0.64$ Å<sup>-1</sup>.\n",
    "\n",
    "## Cropping and background subtraction\n",
    "\n",
    "The reflectometry data is collected as a series of detector images, such as that shown below. "
   ]
  },
  {
   "cell_type": "code",
   "execution_count": 6,
   "metadata": {},
   "outputs": [
    {
     "data": {
      "image/png": "[encoded data removed]",
      "text/plain": [
       "<Figure size 432x288 with 1 Axes>"
      ]
     },
     "metadata": {
      "needs_background": "light"
     },
     "output_type": "display_data"
    },
    {
     "name": "stdout",
     "output_type": "stream",
     "text": [
      "q = 0.042101465804742846 Å\n"
     ]
    }
   ],
   "source": [
    "im = Image(refl.scans[0].data['file'][11])\n",
    "plt.imshow(im.n)\n",
    "plt.xlabel('x-Pixel')\n",
    "plt.ylabel('y-Pixel')\n",
    "plt.show()\n",
    "print('q = {} Å'.format(refl.scans[0].q[11].n))"
   ]
  },
  {
   "cell_type": "markdown",
   "metadata": {},
   "source": [
    "This is data from around $q = 0.4$ Å<sup>-1</sup>.\n",
    "The point in the middle of this image is the reflected intensity peak, that we want to measure, therefore is it necessary to crop this image down. \n",
    "This will remove the other feature that can be seen below the reflected intensity peak."
   ]
  },
  {
   "cell_type": "code",
   "execution_count": 7,
   "metadata": {},
   "outputs": [
    {
     "data": {
      "image/png": "[encoded data removed]",
      "text/plain": [
       "<Figure size 432x288 with 1 Axes>"
      ]
     },
     "metadata": {
      "needs_background": "light"
     },
     "output_type": "display_data"
    }
   ],
   "source": [
    "im.crop(crop_2d, \n",
    "        x_start=200, x_end=220, \n",
    "        y_start=70, y_end=105)\n",
    "plt.imshow(im.n)\n",
    "plt.xlabel('x-Pixel')\n",
    "plt.ylabel('y-Pixel')\n",
    "plt.show()"
   ]
  },
  {
   "cell_type": "markdown",
   "metadata": {},
   "source": [
    "It is important that this peak can be seen in all images, so check that the values you have selected work for many of your images. \n",
    "\n",
    "Having reduced the size of the image and focused on the peak, we now need to perform a subtraction of the background signal. \n",
    "This signal can be seen if we reduce the dimensionality of the plot by summing along the y-axis of the image."
   ]
  },
  {
   "cell_type": "code",
   "execution_count": 8,
   "metadata": {},
   "outputs": [
    {
     "data": {
      "image/png": "[encoded data removed]",
      "text/plain": [
       "<Figure size 432x288 with 1 Axes>"
      ]
     },
     "metadata": {
      "needs_background": "light"
     },
     "output_type": "display_data"
    }
   ],
   "source": [
    "im = Image(refl.scans[-1].data['file'][11])\n",
    "im.crop(crop_2d, \n",
    "        x_start=200, x_end=220, \n",
    "        y_start=70, y_end=105)\n",
    "\n",
    "plt.plot(im.n.mean(axis=0))\n",
    "plt.xlabel('x-Pixel')\n",
    "plt.ylabel('Average intensity')\n",
    "plt.ylim(0, 12000)\n",
    "plt.show()"
   ]
  },
  {
   "cell_type": "markdown",
   "metadata": {},
   "source": [
    "The background subtraction is performed by fitting a one-dimensional Gaussian function, with some offset from the ordinate, to the reduced dimensionality image. \n",
    "The amount by which the fit is offset from the ordinate is then subtracted from each pixel of the image.\n",
    "This one-dimensional fit has been found to be more stable for vertical geometry samples.\n",
    "However, investigated the [Liquid surface](./liquid_surface.html) tutorial to learn about the two-dimensional fitting option. "
   ]
  },
  {
   "cell_type": "code",
   "execution_count": 9,
   "metadata": {},
   "outputs": [
    {
     "data": {
      "image/png": "[encoded data removed]",
      "text/plain": [
       "<Figure size 432x288 with 1 Axes>"
      ]
     },
     "metadata": {
      "needs_background": "light"
     },
     "output_type": "display_data"
    }
   ],
   "source": [
    "im.background_subtraction(fit_gaussian_1d, axis=0)\n",
    "plt.plot(im.n.mean(axis=0))\n",
    "plt.xlabel('x-Pixel')\n",
    "plt.ylabel('Average intensity')\n",
    "plt.ylim(0, 12000)\n",
    "plt.show()"
   ]
  },
  {
   "cell_type": "markdown",
   "metadata": {},
   "source": [
    "The background level is stored in the `image.Image` object. "
   ]
  },
  {
   "cell_type": "code",
   "execution_count": 10,
   "metadata": {},
   "outputs": [
    {
     "name": "stdout",
     "output_type": "stream",
     "text": [
      "260+/-8\n"
     ]
    }
   ],
   "source": [
    "print(im.bkg)"
   ]
  },
  {
   "cell_type": "markdown",
   "metadata": {},
   "source": [
    "Above, we have performed the cropping and background subtraction on a single image, a single $q$-vector. \n",
    "However, it is necessary to perform this operation on all of the images, this is achieved through the `crop_and_bkg_sub` class method for the `refl` object. \n",
    "So to perform this process on each `.dat` file we run the following.\n",
    "Notice that all of the keyword arguments are passed in dictionaries."
   ]
  },
  {
   "cell_type": "code",
   "execution_count": 11,
   "metadata": {},
   "outputs": [
    {
     "name": "stderr",
     "output_type": "stream",
     "text": [
      "100%|██████████| 45/45 [00:34<00:00,  1.31it/s]\n",
      "100%|██████████| 53/53 [00:36<00:00,  1.47it/s]\n",
      "100%|██████████| 163/163 [02:01<00:00,  1.34it/s]\n"
     ]
    }
   ],
   "source": [
    "refl.crop_and_bkg_sub(crop_2d, fit_gaussian_1d, \n",
    "                      crop_kwargs={'x_start': 200, 'x_end':220, \n",
    "                                   'y_start': 70, 'y_end': 105},\n",
    "                      bkg_sub_kwargs={'axis':0})"
   ]
  },
  {
   "cell_type": "markdown",
   "metadata": {},
   "source": [
    "This is the slowest process in the data reduction. \n",
    "\n",
    "## Intensity reduction\n",
    "\n",
    "The image intensity is the summed to give the unnormalised reflected intensity, and associated uncertainties."
   ]
  },
  {
   "cell_type": "code",
   "execution_count": 12,
   "metadata": {},
   "outputs": [
    {
     "data": {
      "image/png": "[encoded data removed]",
      "text/plain": [
       "<Figure size 432x288 with 1 Axes>"
      ]
     },
     "metadata": {
      "needs_background": "light"
     },
     "output_type": "display_data"
    }
   ],
   "source": [
    "for s in refl.scans:\n",
    "    plt.errorbar(unp.nominal_values(s.q),\n",
    "                 unp.nominal_values(s.R),\n",
    "                 yerr=unp.std_devs(s.R),\n",
    "                 ls='',\n",
    "                 marker='o')\n",
    "plt.xlabel(r'$q$/Å')\n",
    "plt.ylabel(r'Intensity')\n",
    "plt.yscale('log')\n",
    "plt.show()"
   ]
  },
  {
   "cell_type": "markdown",
   "metadata": {},
   "source": [
    "The first correction is the [footprint correction](https://doi.org/10.1107/S0021889807030403) which accounts for the sample being smaller than the beam footprint (due to the shallow angle).\n",
    "Where the first argument is the beam width at half maximum, and the second argument is the sample size and uncertainty. "
   ]
  },
  {
   "cell_type": "code",
   "execution_count": 13,
   "metadata": {},
   "outputs": [],
   "source": [
    "beam_width = 180e-6\n",
    "sample_size = ufloat(9e-3, 1e-3)\n",
    "refl.footprint_correction(beam_width, sample_size)"
   ]
  },
  {
   "cell_type": "markdown",
   "metadata": {},
   "source": [
    "The final correction is he first is due to the transmission of radiation in collection. This brings the intensity of the different scans (which is different due to attenuation variances in data collection) together, to give a familiar reflectometry curve."
   ]
  },
  {
   "cell_type": "code",
   "execution_count": 14,
   "metadata": {},
   "outputs": [],
   "source": [
    "refl.transmission_normalisation()"
   ]
  },
  {
   "cell_type": "code",
   "execution_count": 15,
   "metadata": {},
   "outputs": [
    {
     "data": {
      "image/png": "[encoded data removed]",
      "text/plain": [
       "<Figure size 432x288 with 1 Axes>"
      ]
     },
     "metadata": {
      "needs_background": "light"
     },
     "output_type": "display_data"
    }
   ],
   "source": [
    "for s in refl.scans:\n",
    "    plt.errorbar(unp.nominal_values(s.q),\n",
    "                 unp.nominal_values(s.R),\n",
    "                 yerr=unp.std_devs(s.R),\n",
    "                 xerr=unp.std_devs(s.q),\n",
    "                 ls='',\n",
    "                 marker='o')\n",
    "plt.xlabel(r'$q$/Å')\n",
    "plt.ylabel(r'Intensity')\n",
    "plt.yscale('log')\n",
    "plt.show()"
   ]
  },
  {
   "cell_type": "markdown",
   "metadata": {},
   "source": [
    "## Stitching and normalisation\n",
    "\n",
    "The main reduction steps are now complete, however the scans must be brought together in a coherent dataset, normalised such that this y-axis reads the Reflectivity ($R$) (where the total external reflection is brought to $R = 1$)."
   ]
  },
  {
   "cell_type": "code",
   "execution_count": 16,
   "metadata": {},
   "outputs": [],
   "source": [
    "refl.concatenate()\n",
    "refl.normalise_ter()"
   ]
  },
  {
   "cell_type": "code",
   "execution_count": 17,
   "metadata": {},
   "outputs": [
    {
     "data": {
      "image/png": "[encoded data removed]",
      "text/plain": [
       "<Figure size 432x288 with 1 Axes>"
      ]
     },
     "metadata": {
      "needs_background": "light"
     },
     "output_type": "display_data"
    }
   ],
   "source": [
    "plt.errorbar(refl.q, refl.R, yerr=refl.dR, marker='o', ls='')\n",
    "plt.xlabel(r'$q$/Å')\n",
    "plt.ylabel(r'$R$')\n",
    "plt.yscale('log')\n",
    "plt.show()"
   ]
  },
  {
   "cell_type": "markdown",
   "metadata": {},
   "source": [
    "Now, we have the option to rebin the data. The code below will rebin the data onto 100, linearly distributed points in q."
   ]
  },
  {
   "cell_type": "code",
   "execution_count": 18,
   "metadata": {},
   "outputs": [],
   "source": [
    "refl.rebin(new_q=np.linspace(refl.q.min(), refl.q.max(), 100))"
   ]
  },
  {
   "cell_type": "code",
   "execution_count": 19,
   "metadata": {},
   "outputs": [
    {
     "data": {
      "image/png": "[encoded data removed]",
      "text/plain": [
       "<Figure size 432x288 with 1 Axes>"
      ]
     },
     "metadata": {
      "needs_background": "light"
     },
     "output_type": "display_data"
    }
   ],
   "source": [
    "plt.errorbar(refl.q, refl.R, yerr=refl.dR, xerr=refl.dq, marker='o', ls='')\n",
    "plt.xlabel(r'$q$/Å')\n",
    "plt.ylabel(r'$R$')\n",
    "plt.yscale('log')\n",
    "plt.show()"
   ]
  },
  {
   "cell_type": "markdown",
   "metadata": {},
   "source": [
    "The last step is to save the data, this can be achieved with the `np.savetxt` function, and will output a four column text file that can be read in to most analysis packages.\n",
    "Note, that we have note defined the uncertainty in $q$ for this geometry reduction. \n",
    "Therefore, we use a resolution function of 5 % of the $q$-value. "
   ]
  },
  {
   "cell_type": "code",
   "execution_count": 20,
   "metadata": {},
   "outputs": [],
   "source": [
    "data = np.array([refl.q, refl.R, refl.dR, refl.q * 0.05]).T\n",
    "np.savetxt('vrefl_reduced.txt', data, header='q R dR dq')"
   ]
  }
 ],
 "metadata": {
  "kernelspec": {
   "display_name": "Python 3",
   "language": "python",
   "name": "python3"
  },
  "language_info": {
   "codemirror_mode": {
    "name": "ipython",
    "version": 3
   },
   "file_extension": ".py",
   "mimetype": "text/x-python",
   "name": "python",
   "nbconvert_exporter": "python",
   "pygments_lexer": "ipython3",
   "version": "3.7.6"
  }
 },
 "nbformat": 4,
 "nbformat_minor": 4
}
